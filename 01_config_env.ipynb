{
  "cells": [
    {
      "cell_type": "code",
      "source": [
        "from azureml.core import Environment, Workspace\n",
        "from azureml.core.conda_dependencies import CondaDependencies\n",
        "\n",
        "# Define workspace\n",
        "ws = Workspace.from_config()\n",
        "\n",
        "# Create a new environment\n",
        "my_env = Environment(name=\"my_env\")\n",
        "\n",
        "# Define dependencies\n",
        "conda_dep = CondaDependencies()\n",
        "conda_dep.add_conda_package(\"python=3.10.14\")\n",
        "conda_dep.add_pip_package(\"matplotlib\")\n",
        "conda_dep.add_pip_package(\"numpy\")\n",
        "conda_dep.add_pip_package(\"pandas\")\n",
        "conda_dep.add_pip_package(\"seaborn\")\n",
        "\n",
        "# Attach dependencies to the environment\n",
        "my_env.python.conda_dependencies = conda_dep\n",
        "\n",
        "my_env.register(workspace=ws)"
      ],
      "outputs": [],
      "execution_count": null,
      "metadata": {
        "gather": {
          "logged": 1739648560377
        }
      }
    }
  ],
  "metadata": {
    "kernelspec": {
      "name": "python310-sdkv2",
      "language": "python",
      "display_name": "Python 3.10 - SDK v2"
    },
    "language_info": {
      "name": "python",
      "version": "3.10.14",
      "mimetype": "text/x-python",
      "codemirror_mode": {
        "name": "ipython",
        "version": 3
      },
      "pygments_lexer": "ipython3",
      "nbconvert_exporter": "python",
      "file_extension": ".py"
    },
    "microsoft": {
      "ms_spell_check": {
        "ms_spell_check_language": "en"
      },
      "host": {
        "AzureML": {
          "notebookHasBeenCompleted": true
        }
      }
    },
    "kernel_info": {
      "name": "python310-sdkv2"
    },
    "nteract": {
      "version": "nteract-front-end@1.0.0"
    }
  },
  "nbformat": 4,
  "nbformat_minor": 2
}
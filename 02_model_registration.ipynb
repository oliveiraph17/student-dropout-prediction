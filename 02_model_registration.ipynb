{
  "cells": [
    {
      "cell_type": "code",
      "source": [
        "import os\n",
        "import yaml\n",
        "from azure.ai.ml import MLClient\n",
        "from azure.ai.ml.entities import Model\n",
        "from azure.identity import DefaultAzureCredential"
      ],
      "outputs": [],
      "execution_count": 6,
      "metadata": {
        "gather": {
          "logged": 1739839815446
        }
      }
    },
    {
      "cell_type": "code",
      "source": [
        "# Load the YAML file\n",
        "with open(\"env.yaml\", \"r\") as file:\n",
        "    config = yaml.safe_load(file)\n",
        "\n",
        "# Set environment variables\n",
        "os.environ[\"AZURE_SUBSCRIPTION_ID\"] = config[\"azure\"][\"subscription_id\"]\n",
        "os.environ[\"AZURE_RESOURCE_GROUP\"] = config[\"azure\"][\"resource_group\"]\n",
        "os.environ[\"AZURE_WORKSPACE_NAME\"] = config[\"azure\"][\"workspace_name\"]"
      ],
      "outputs": [],
      "execution_count": 2,
      "metadata": {
        "gather": {
          "logged": 1739839253652
        }
      }
    },
    {
      "cell_type": "code",
      "source": [
        "ml_client = MLClient(\n",
        "    credential=DefaultAzureCredential(),\n",
        "    subscription_id=os.getenv(\"AZURE_SUBSCRIPTION_ID\"),\n",
        "    resource_group_name=os.getenv(\"AZURE_RESOURCE_GROUP\"),\n",
        "    workspace_name=os.getenv(\"AZURE_WORKSPACE_NAME\"),\n",
        ")"
      ],
      "outputs": [],
      "execution_count": 3,
      "metadata": {
        "gather": {
          "logged": 1739839254280
        }
      }
    },
    {
      "cell_type": "code",
      "source": [
        "# Model details\n",
        "model_path = \"best_xgb_pipeline.pkl\"\n",
        "model_name = \"student_dropout_predictor\"\n",
        "\n",
        "# Register the model\n",
        "model = Model(\n",
        "    path=model_path,\n",
        "    name=model_name,\n",
        "    description=\"A trained pipeline with RobustScaler and XGBoost.\",\n",
        "    type=\"custom_model\"\n",
        ")"
      ],
      "outputs": [],
      "execution_count": 9,
      "metadata": {
        "gather": {
          "logged": 1739839972095
        }
      }
    },
    {
      "cell_type": "code",
      "source": [
        "# Register the model in the Azure ML model registry\n",
        "registered_model = ml_client.models.create_or_update(model)\n",
        "\n",
        "print(f\"Model registered: {registered_model.name}\")\n",
        "print(f\"Version: {registered_model.version}\")"
      ],
      "outputs": [
        {
          "output_type": "stream",
          "name": "stdout",
          "text": "Model registered: student_dropout_predictor\nVersion: 1\n"
        }
      ],
      "execution_count": 10,
      "metadata": {
        "gather": {
          "logged": 1739839982530
        }
      }
    }
  ],
  "metadata": {
    "kernelspec": {
      "name": "python310-sdkv2",
      "language": "python",
      "display_name": "Python 3.10 - SDK v2"
    },
    "language_info": {
      "name": "python",
      "version": "3.10.14",
      "mimetype": "text/x-python",
      "codemirror_mode": {
        "name": "ipython",
        "version": 3
      },
      "pygments_lexer": "ipython3",
      "nbconvert_exporter": "python",
      "file_extension": ".py"
    },
    "microsoft": {
      "ms_spell_check": {
        "ms_spell_check_language": "en"
      },
      "host": {
        "AzureML": {
          "notebookHasBeenCompleted": true
        }
      }
    },
    "kernel_info": {
      "name": "python310-sdkv2"
    },
    "nteract": {
      "version": "nteract-front-end@1.0.0"
    }
  },
  "nbformat": 4,
  "nbformat_minor": 2
}